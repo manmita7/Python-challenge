{
 "cells": [
  {
   "cell_type": "code",
   "execution_count": 3,
   "metadata": {},
   "outputs": [],
   "source": [
    "import os\n",
    "import csv"
   ]
  },
  {
   "cell_type": "code",
   "execution_count": 4,
   "metadata": {},
   "outputs": [
    {
     "name": "stdout",
     "output_type": "stream",
     "text": [
      "budget_data.csv\n"
     ]
    }
   ],
   "source": [
    "csvpath = os.path.join('budget_data.csv')\n",
    "print(csvpath)"
   ]
  },
  {
   "cell_type": "code",
   "execution_count": 7,
   "metadata": {},
   "outputs": [
    {
     "name": "stdout",
     "output_type": "stream",
     "text": [
      "Financial Analysis\n",
      "---------------------\n",
      "Total Months:86\n",
      "Total:$ 38382578\n",
      "Average Change: -2315.12\n",
      "Greatest increase in profits:Feb-2012 (1926159)\n",
      "Greatest increase in profits:Sep-2013 (-2196167)\n"
     ]
    }
   ],
   "source": [
    "with open (csvpath, \"r\") as csvfile:\n",
    "    csvreader = csv.reader(csvfile, delimiter=',')\n",
    "    next(csvreader)\n",
    "    my_list = list(csvreader) \n",
    "\n",
    "pnl = [int(pl[1]) for pl in my_list]\n",
    "months = [mo[0] for mo in my_list]\n",
    "#print(months)\n",
    "total_months = len(months) \n",
    "rolling_change = [pnl[i + 1] - pnl[i] for i in range(len(pnl) - 1)]\n",
    "#print(rolling_change)\n",
    "avg_pnl = round(sum(rolling_change)/ len(rolling_change),2)\n",
    "sum_rc = sum(pnl)\n",
    "g_increase = max(rolling_change)\n",
    "#print(g_increase)\n",
    "\n",
    "ind1 = rolling_change.index(g_increase)\n",
    "#print(ind)\n",
    "max_month = months[ind1 + 1]\n",
    "#print(max_month)\n",
    "\n",
    "g_decrease = min(rolling_change)\n",
    "ind2 = rolling_change.index(g_decrease)\n",
    "min_month = months[ind2 + 1]\n",
    "print(\"Financial Analysis\")\n",
    "print(\"---------------------\")\n",
    "print(f\"Total Months:{total_months}\")\n",
    "print(f\"Total:$ {sum_rc}\")\n",
    "print(f\"Average Change: {avg_pnl}\")\n",
    "print(f\"Greatest increase in profits:{max_month} ({g_increase})\")\n",
    "print(f\"Greatest increase in profits:{min_month} ({g_decrease})\")\n",
    "\n",
    "csvpath2 = os.path.join('PyBank.csv')\n",
    "with open (csvpath2, \"w\" , newline = '') as csvfile2:\n",
    "    csvwriter = csv.writer(csvfile2, delimiter =\",\")\n",
    "    csvwriter.writerow ([\"Financial analysis\",\"\"])\n",
    "    csvwriter.writerow ([f\"Total Months:{str(total_months)}\",\"\"])\n",
    "    csvwriter.writerow ([f\"Total:$ {sum_rc}\",\"\"])\n",
    "    csvwriter.writerow ([f\"Average Change: {avg_pnl}\",\"\"])\n",
    "    csvwriter.writerow ([f\"Greatest increase in profits:{max_month} ({g_increase})\",\"\"])\n",
    "    csvwriter.writerow ([f\"Greatest increase in profits:{min_month} ({g_decrease})\",\"\"])\n",
    "    \n",
    "  \n",
    "    "
   ]
  },
  {
   "cell_type": "code",
   "execution_count": null,
   "metadata": {},
   "outputs": [],
   "source": []
  }
 ],
 "metadata": {
  "kernelspec": {
   "display_name": "Conda [PythonData]",
   "language": "python",
   "name": "pythondata"
  },
  "language_info": {
   "codemirror_mode": {
    "name": "ipython",
    "version": 3
   },
   "file_extension": ".py",
   "mimetype": "text/x-python",
   "name": "python",
   "nbconvert_exporter": "python",
   "pygments_lexer": "ipython3",
   "version": "3.6.8"
  }
 },
 "nbformat": 4,
 "nbformat_minor": 2
}
