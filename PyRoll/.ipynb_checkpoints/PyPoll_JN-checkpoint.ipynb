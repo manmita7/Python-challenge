{
 "cells": [
  {
   "cell_type": "code",
   "execution_count": 2,
   "metadata": {},
   "outputs": [],
   "source": [
    "import os"
   ]
  },
  {
   "cell_type": "code",
   "execution_count": 3,
   "metadata": {},
   "outputs": [],
   "source": [
    "import csv"
   ]
  },
  {
   "cell_type": "code",
   "execution_count": 45,
   "metadata": {},
   "outputs": [
    {
     "name": "stdout",
     "output_type": "stream",
     "text": [
      "election_data.csv\n"
     ]
    }
   ],
   "source": [
    "csvpath = os.path.join('election_data.csv')\n",
    "print(csvpath)"
   ]
  },
  {
   "cell_type": "code",
   "execution_count": 47,
   "metadata": {},
   "outputs": [
    {
     "name": "stdout",
     "output_type": "stream",
     "text": [
      "Election Results\n",
      "--------------------\n",
      "Total votes: 3521001\n",
      "Khan: 63.0% (2218231)\n",
      "Correy: 20.0% (704200)\n",
      "Li: 14.0% (492940)\n",
      "O'Tooley: 3.0% (105630)\n",
      "Winner:Khan\n"
     ]
    }
   ],
   "source": [
    "with open (csvpath, \"r\") as csvfile:\n",
    "    csvreader = csv.reader(csvfile, delimiter=',')\n",
    "    next(csvreader)\n",
    "    my_list = list(csvreader)\n",
    "    print(\"Election Results\")\n",
    "    print(\"--------------------\")\n",
    "    candidates = [pl[2] for pl in my_list]\n",
    "#print (candidates)\n",
    "total_votes = len(candidates)\n",
    "print(f\"Total votes: {total_votes}\")\n",
    "\n",
    "\n",
    "unique_candidates =[]\n",
    "\n",
    "\n",
    "for x in candidates:\n",
    "    if x not in unique_candidates:\n",
    "        unique_candidates.append(x)\n",
    "\n",
    "can1 = str(unique_candidates[0])\n",
    "can2 = str(unique_candidates[1])\n",
    "can3 = str(unique_candidates[2])\n",
    "can4 = str(unique_candidates[3])\n",
    "can1list = []\n",
    "can2list = []\n",
    "can3list = []\n",
    "can4list = []\n",
    "        \n",
    "for y in candidates:\n",
    "    if y == can1:\n",
    "        can1list.append(y)\n",
    "    elif y == can2:\n",
    "        can2list.append(y)\n",
    "    elif y == can3:\n",
    "        can3list.append(y)\n",
    "    elif y == can4:       \n",
    "        can4list.append(y)\n",
    "       \n",
    "#print(f\"{can1list[0]}: votes {len(can1list)}\")\n",
    "#print(f\"{can2list[0]}: votes {len(can2list)}\")\n",
    "#print(f\"{can3list[0]}: votes {len(can3list)}\")\n",
    "#print(f\"{can4list[0]}: votes {len(can4list)}\")\n",
    "p_1 = round(len(can1list) /total_votes *100,2)\n",
    "p_2 = round(len(can2list) /total_votes *100,2)\n",
    "p_3 = round(len(can3list) /total_votes *100,2)\n",
    "p_4 = round(len(can4list) /total_votes *100,2)\n",
    "#print(p_1)\n",
    "#print(p_2)\n",
    "#print(p_3)\n",
    "#print(p_4)\n",
    "\n",
    "results =[p_1,p_2,p_3,p_4]\n",
    "max_results = max(results)\n",
    "ind = results.index(max_results)\n",
    "winner = unique_candidates[ind]\n",
    "#print(f\"Winner:{winner}\")\n",
    "\n",
    "print(f\"{can1}: {p_1}% ({len(can1list)})\")\n",
    "print(f\"{can2}: {p_2}% ({len(can2list)})\")\n",
    "print(f\"{can3}: {p_3}% ({len(can3list)})\")\n",
    "print(f\"{can4}: {p_4}% ({len(can4list)})\")\n",
    "print(f\"Winner:{winner}\")\n",
    "\n",
    "csvpath2 = os.path.join('PyPoll.csv')\n",
    "with open (csvpath2, \"w\" , newline = '') as csvfile2:\n",
    "    csvwriter = csv.writer(csvfile2, delimiter =\",\")\n",
    "    csvwriter.writerow ([f\"{can1}: {p_1}% ({len(can1list)})\",''])\n",
    "    csvwriter.writerow ([f\"{can2}: {p_2}% ({len(can2list)})\",\"\"])\n",
    "    csvwriter.writerow ([f\"{can3}: {p_3}% ({len(can3list)})\",\"\"])\n",
    "    csvwriter.writerow ([f\"{can4}: {p_4}% ({len(can4list)})\",\"\"])\n",
    "    csvwriter.writerow ([f\"Winner:{winner}\",\"\"])\n",
    "    \n",
    "    \n",
    "\n",
    "\n",
    "\n",
    "\n",
    "\n",
    "\n",
    "        \n",
    "        \n",
    "    \n",
    "    "
   ]
  },
  {
   "cell_type": "code",
   "execution_count": null,
   "metadata": {},
   "outputs": [],
   "source": []
  }
 ],
 "metadata": {
  "kernelspec": {
   "display_name": "Conda [PythonData]",
   "language": "python",
   "name": "pythondata"
  },
  "language_info": {
   "codemirror_mode": {
    "name": "ipython",
    "version": 3
   },
   "file_extension": ".py",
   "mimetype": "text/x-python",
   "name": "python",
   "nbconvert_exporter": "python",
   "pygments_lexer": "ipython3",
   "version": "3.6.8"
  }
 },
 "nbformat": 4,
 "nbformat_minor": 2
}
